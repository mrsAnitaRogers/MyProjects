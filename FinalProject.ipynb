{
 "cells": [
  {
   "cell_type": "markdown",
   "id": "33603068-e62e-431a-8989-128ebb060a84",
   "metadata": {},
   "source": [
    "# My Jupyter Notebook on IBM Watson Studio"
   ]
  },
  {
   "cell_type": "markdown",
   "id": "a671ec37-d4b4-4c17-8755-40e20ce386bb",
   "metadata": {},
   "source": [
    "**Anita L. Rogers**  \n",
    "DevSecOps Manager"
   ]
  },
  {
   "cell_type": "markdown",
   "id": "07afb264-102a-4cbe-ba36-8927055cc563",
   "metadata": {},
   "source": [
    "*I am interested in data science because I enjoy working with data and understanding how to glean information from data.\n",
    "I also understand the importance in using data to make business decisions and I want to be proactive in guiding companies\n",
    "to use data correctly when concluding on business insights.*"
   ]
  },
  {
   "cell_type": "markdown",
   "id": "e96777fb-bd12-453c-9d82-d3ee590cab7b",
   "metadata": {},
   "source": [
    "### The following line is a short line of code to show how to multiply two numbers"
   ]
  },
  {
   "cell_type": "code",
   "execution_count": 14,
   "id": "2461d7ba-afdc-44af-92db-1536f36e0aba",
   "metadata": {},
   "outputs": [
    {
     "name": "stdout",
     "output_type": "stream",
     "text": [
      "Hello World\n"
     ]
    }
   ],
   "source": [
    "myExample = \"Hello World\"\n",
    "print (myExample)"
   ]
  },
  {
   "cell_type": "markdown",
   "id": "333b65ba-2aa4-4565-8f97-23cf03fd82cc",
   "metadata": {},
   "source": [
    "Thank you for reading this document.\n",
    "A special thanks to github for providing [Markdown help](https://docs.github.com/en/github/writing-on-github)"
   ]
  },
  {
   "cell_type": "markdown",
   "id": "6ddfc3b6-536c-4df0-b484-97f02727dcd4",
   "metadata": {},
   "source": [
    "In this document, I __hope__ that you learned the following:\n",
    "1. My name\n",
    "2. My profession\n",
    "3. Why I am interested in data science"
   ]
  },
  {
   "cell_type": "code",
   "execution_count": null,
   "id": "2218eb07-9e26-4334-8504-466729539225",
   "metadata": {},
   "outputs": [],
   "source": [
    "![alt text](https://github.com/adam-p/markdown-here/raw/master/src/common/images/icon48.png \"Logo Title Text 1\")"
   ]
  }
 ],
 "metadata": {
  "kernelspec": {
   "display_name": "Python",
   "language": "python",
   "name": "conda-env-python-py"
  },
  "language_info": {
   "codemirror_mode": {
    "name": "ipython",
    "version": 3
   },
   "file_extension": ".py",
   "mimetype": "text/x-python",
   "name": "python",
   "nbconvert_exporter": "python",
   "pygments_lexer": "ipython3",
   "version": "3.7.12"
  }
 },
 "nbformat": 4,
 "nbformat_minor": 5
}
